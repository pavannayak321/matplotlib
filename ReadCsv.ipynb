{
 "cells": [
  {
   "cell_type": "code",
   "execution_count": 12,
   "metadata": {},
   "outputs": [
    {
     "name": "stdout",
     "output_type": "stream",
     "text": [
      "data are \n",
      "['1', '2', '3', '4', '5', '6']\n",
      "and\n",
      "['7', '8', '9', '10', '11', '12']\n",
      "--------------plotting the graph------------\n"
     ]
    },
    {
     "data": {
      "image/png": "[encoded data removed]",
      "text/plain": [
       "<Figure size 432x288 with 1 Axes>"
      ]
     },
     "metadata": {
      "needs_background": "light"
     },
     "output_type": "display_data"
    }
   ],
   "source": [
    "#reading data from the csv and making the plot\n",
    "import csv\n",
    "\n",
    "\n",
    "x= []\n",
    "y= []\n",
    "\n",
    "\n",
    "\n",
    "with open(\"C:/Users/pavan/Videos/tmp.txt\",\"r\") as csv_file:\n",
    "    data = csv.reader(csv_file,delimiter=',')\n",
    "    for row in data:\n",
    "        x.append(str(row[0]))\n",
    "        y.append(str(row[1]))\n",
    "print('data are \\n{0}\\nand\\n{1}'.format(x,y))\n",
    "\n",
    "print('--------------plotting the graph------------')\n",
    "\n",
    "%matplotlib inline\n",
    "import matplotlib.pyplot as plt\n",
    "\n",
    "plt.plot(x,y)\n",
    "plt.xlabel('Xlabel')\n",
    "plt.ylabel('Ylabel')\n",
    "plt.show()"
   ]
  },
  {
   "cell_type": "code",
   "execution_count": null,
   "metadata": {},
   "outputs": [],
   "source": []
  }
 ],
 "metadata": {
  "kernelspec": {
   "display_name": "Python 3",
   "language": "python",
   "name": "python3"
  },
  "language_info": {
   "codemirror_mode": {
    "name": "ipython",
    "version": 3
   },
   "file_extension": ".py",
   "mimetype": "text/x-python",
   "name": "python",
   "nbconvert_exporter": "python",
   "pygments_lexer": "ipython3",
   "version": "3.7.1"
  }
 },
 "nbformat": 4,
 "nbformat_minor": 2
}
