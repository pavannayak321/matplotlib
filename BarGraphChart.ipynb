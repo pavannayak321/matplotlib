{
 "cells": [
  {
   "cell_type": "code",
   "execution_count": 10,
   "metadata": {},
   "outputs": [
    {
     "data": {
      "image/png": "[encoded data removed]",
      "text/plain": [
       "<Figure size 432x288 with 1 Axes>"
      ]
     },
     "metadata": {
      "needs_background": "light"
     },
     "output_type": "display_data"
    },
    {
     "data": {
      "text/plain": [
       "'A histogram represents the frequency distribution of continuous variables\\nConversely, a bar graph is a diagrammatic comparison of discrete variables.\\nHistogram presents numerical data whereas bar graph shows categorical data.\\nThe histogram is drawn in such a way that there is no gap between the bars.\\n'"
      ]
     },
     "execution_count": 10,
     "metadata": {},
     "output_type": "execute_result"
    }
   ],
   "source": [
    "%matplotlib inline\n",
    "import matplotlib.pyplot as plt\n",
    "\n",
    "#plotting the bar graph that show's how much profit a merchant got during 5 day's of his/her business\n",
    "\n",
    "week_1 = [1,2,3,4,5]\n",
    "profit_market = [213,234,234,342,300]\n",
    "\n",
    "week_2 = [1,2,3,4,5]\n",
    "profit_land = [323,234,321,231,223]\n",
    "\n",
    "\n",
    "plt.bar(week_1,profit_market,label='profit from market',color='r')\n",
    "plt.bar(week_2,profit_land,label='profit from land',color='g')\n",
    "\n",
    "plt.xlabel('x')\n",
    "plt.ylabel('y')\n",
    "plt.title('Bar Graph ')\n",
    "plt.legend()\n",
    "plt.show()\n",
    "\n",
    "'''A histogram represents the frequency distribution of continuous variables\n",
    "Conversely, a bar graph is a diagrammatic comparison of discrete variables.\n",
    "Histogram presents numerical data whereas bar graph shows categorical data.\n",
    "The histogram is drawn in such a way that there is no gap between the bars.\n",
    "'''"
   ]
  },
  {
   "cell_type": "code",
   "execution_count": null,
   "metadata": {},
   "outputs": [],
   "source": []
  }
 ],
 "metadata": {
  "kernelspec": {
   "display_name": "Python 3",
   "language": "python",
   "name": "python3"
  },
  "language_info": {
   "codemirror_mode": {
    "name": "ipython",
    "version": 3
   },
   "file_extension": ".py",
   "mimetype": "text/x-python",
   "name": "python",
   "nbconvert_exporter": "python",
   "pygments_lexer": "ipython3",
   "version": "3.7.1"
  }
 },
 "nbformat": 4,
 "nbformat_minor": 2
}
